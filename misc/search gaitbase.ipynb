{
 "cells": [
  {
   "cell_type": "markdown",
   "metadata": {},
   "source": [
    "# Select patients matching certain criteria from the gaitbase\n",
    "Read all the patients from the gaitbase database, select patients matching certain criteria (e.g. age, diagnois, etc.), and save them to an excel file"
   ]
  },
  {
   "cell_type": "code",
   "execution_count": 1,
   "metadata": {},
   "outputs": [],
   "source": [
    "from datetime import datetime\n",
    "from dateutil.relativedelta import relativedelta\n",
    "import pandas as pd\n",
    "import sqlite3"
   ]
  },
  {
   "cell_type": "code",
   "execution_count": 2,
   "metadata": {},
   "outputs": [],
   "source": [
    "DB_FILE_NAME = 'Z:/gaitbase/patients.db'\n",
    "OUT_FNAME = 'C:/Temp/patients.xlsx'\n",
    "CODE_TYPES = ['H', 'C']\n",
    "REF_DATE = '110823'\n",
    "AGE_MIN = 0\n",
    "AGE_MAX = 25"
   ]
  },
  {
   "cell_type": "code",
   "execution_count": 3,
   "metadata": {},
   "outputs": [],
   "source": [
    "# Read sqlite query results into a pandas DataFrame\n",
    "con = sqlite3.connect(DB_FILE_NAME)\n",
    "df = pd.read_sql_query(\"SELECT * from patients\", con)\n",
    "con.close()"
   ]
  },
  {
   "cell_type": "code",
   "execution_count": 4,
   "metadata": {},
   "outputs": [],
   "source": [
    "def selector(row):\n",
    "    if not (row.patient_code[0] in CODE_TYPES):\n",
    "        return False\n",
    "    \n",
    "    b_date = datetime.strptime(row.ssn[:6], '%d%m%y')\n",
    "    ref_date = datetime.strptime(REF_DATE, '%d%m%y')\n",
    "\n",
    "    age = relativedelta(ref_date, b_date).years\n",
    "    return (age <= AGE_MAX) and (age >= AGE_MIN)"
   ]
  },
  {
   "cell_type": "code",
   "execution_count": 5,
   "metadata": {},
   "outputs": [],
   "source": [
    "df_filtered = df.loc[df.apply(selector, axis=1)]\n",
    "df_filtered[['firstname', 'lastname', 'ssn', 'patient_code', 'diagnosis']].to_excel(OUT_FNAME, index=False)"
   ]
  },
  {
   "cell_type": "code",
   "execution_count": 6,
   "metadata": {},
   "outputs": [],
   "source": []
  }
 ],
 "metadata": {
  "kernelspec": {
   "display_name": "gaitbase-dev",
   "language": "python",
   "name": "python3"
  },
  "language_info": {
   "codemirror_mode": {
    "name": "ipython",
    "version": 3
   },
   "file_extension": ".py",
   "mimetype": "text/x-python",
   "name": "python",
   "nbconvert_exporter": "python",
   "pygments_lexer": "ipython3",
   "version": "3.11.4"
  },
  "orig_nbformat": 4
 },
 "nbformat": 4,
 "nbformat_minor": 2
}
