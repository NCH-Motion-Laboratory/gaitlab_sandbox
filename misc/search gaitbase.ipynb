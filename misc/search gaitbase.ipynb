{
 "cells": [
  {
   "cell_type": "markdown",
   "metadata": {},
   "source": [
    "# Select patients matching certain criteria from the gaitbase\n",
    "Read all the patients from the gaitbase database, select patients matching certain criteria (e.g. age, diagnois, etc.), and save them to an excel file"
   ]
  },
  {
   "cell_type": "code",
   "execution_count": 14,
   "metadata": {},
   "outputs": [],
   "source": [
    "from datetime import datetime\n",
    "from dateutil.relativedelta import relativedelta\n",
    "import pandas as pd\n",
    "import sqlite3"
   ]
  },
  {
   "cell_type": "code",
   "execution_count": 15,
   "metadata": {},
   "outputs": [],
   "source": [
    "DB_FILE_NAME = '/home/andrey/scratch/patients.db'\n",
    "OUT_FNAME = '/home/andrey/scratch/patients.xlsx'\n",
    "CODE_TYPES = ['H', 'C', 'E', 'D']\n",
    "\n",
    "# Select the patients who are AGE_MIN years old or older at REF_DATE_MIN\n",
    "# and AGE_MAX years old or younger at REF_DATE_MAX\n",
    "REF_DATE_MIN = '041024'\n",
    "REF_DATE_MAX = '311224'\n",
    "AGE_MIN = 7\n",
    "AGE_MAX = 12"
   ]
  },
  {
   "cell_type": "code",
   "execution_count": 16,
   "metadata": {},
   "outputs": [],
   "source": [
    "# Read sqlite query results into a pandas DataFrame\n",
    "con = sqlite3.connect(DB_FILE_NAME)\n",
    "df = pd.read_sql_query(\"SELECT * from patients\", con)\n",
    "con.close()"
   ]
  },
  {
   "cell_type": "code",
   "execution_count": 17,
   "metadata": {},
   "outputs": [],
   "source": [
    "def selector(row):\n",
    "    if not (row.patient_code[0] in CODE_TYPES):\n",
    "        return False\n",
    "    \n",
    "    b_date = datetime.strptime(row.ssn[:6], '%d%m%y')\n",
    "    ref_date_min = datetime.strptime(REF_DATE_MIN, '%d%m%y')\n",
    "    ref_date_max = datetime.strptime(REF_DATE_MAX, '%d%m%y')\n",
    "\n",
    "    age_min = relativedelta(ref_date_min, b_date).years\n",
    "    age_max = relativedelta(ref_date_max, b_date).years\n",
    "\n",
    "    return (age_max <= AGE_MAX) and (age_min >= AGE_MIN)"
   ]
  },
  {
   "cell_type": "code",
   "execution_count": 18,
   "metadata": {},
   "outputs": [],
   "source": [
    "df_filtered = df.loc[df.apply(selector, axis=1)]\n",
    "df_filtered[['firstname', 'lastname', 'ssn', 'patient_code', 'diagnosis']].to_excel(OUT_FNAME, index=False)"
   ]
  },
  {
   "cell_type": "code",
   "execution_count": 6,
   "metadata": {},
   "outputs": [],
   "source": []
  }
 ],
 "metadata": {
  "kernelspec": {
   "display_name": "general",
   "language": "python",
   "name": "python3"
  },
  "language_info": {
   "codemirror_mode": {
    "name": "ipython",
    "version": 3
   },
   "file_extension": ".py",
   "mimetype": "text/x-python",
   "name": "python",
   "nbconvert_exporter": "python",
   "pygments_lexer": "ipython3",
   "version": "3.12.0"
  },
  "orig_nbformat": 4
 },
 "nbformat": 4,
 "nbformat_minor": 2
}
