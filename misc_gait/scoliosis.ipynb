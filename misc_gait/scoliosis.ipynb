{
 "cells": [
  {
   "cell_type": "markdown",
   "id": "6145e91c-104a-4b88-803c-3802f1c1b092",
   "metadata": {},
   "source": [
    "# Do the scoliosis EMG analysis for one patient"
   ]
  },
  {
   "cell_type": "code",
   "execution_count": null,
   "id": "096341e6-9f74-4679-b70a-14701c5d7285",
   "metadata": {},
   "outputs": [],
   "source": [
    "import pathlib\n",
    "\n",
    "import numpy as np\n",
    "from collections import defaultdict\n",
    "\n",
    "import pandas as pd\n",
    "\n",
    "from gaitutils.stats import collect_trial_data\n",
    "from gaitutils.trial import Trial\n",
    "from gaitutils import eclipse\n",
    "from gaitutils.config import cfg\n",
    "\n",
    "import matplotlib.pyplot as plt\n",
    "#%matplotlib widget"
   ]
  },
  {
   "cell_type": "code",
   "execution_count": null,
   "id": "2c392b82-ed2f-4eba-979b-3d3574e394eb",
   "metadata": {},
   "outputs": [],
   "source": [
    "#DATA_FLDR = 'Y:/Userdata_Vicon_Server/Skolioosi/Potilaina/E0145_AA/2022_02_10_Seur_AA'\n",
    "#DATA_FLDR = 'Y:/Userdata_Vicon_Server/Skolioosi/Potilaina/E0173_GL/2023_02_16_skolioosi_seur_GL'\n",
    "DATA_FLDR = 'Y:/Userdata_Vicon_Server/Skolioosi/Potilaina/E0148_AK/2022_04_11_Seur_AK'\n",
    "#DATA_FLDR = 'Y:/Userdata_Vicon_Server/Skolioosi/Potilaina/E0150_EA/2022_05_05_seur_EA'\n",
    "#DATA_FLDR = 'Y:/Userdata_Vicon_Server/Skolioosi/Potilaina/E0156_EO/2022_8_8_PreKorsetti'\n",
    "#DATA_FLDR = 'Y:/Userdata_Vicon_Server/Skolioosi/Potilaina/E0163_IR/2022_11_17_skolioosi_IR'\n",
    "\n",
    "WALKING_TAGS = {'E1', 'E2', 'E3', 'E4', 'T1', 'T2', 'T3', 'T4'}\n",
    "MVC_TAG = 'MVC'\n",
    "\n",
    "cfg.trial.no_toeoff = 'reject'"
   ]
  },
  {
   "cell_type": "markdown",
   "id": "f92a703c-fa18-4854-ac3b-0158091cf78c",
   "metadata": {},
   "source": [
    "## Read all the walking files"
   ]
  },
  {
   "cell_type": "code",
   "execution_count": null,
   "id": "d1a87b0d-7516-4df7-a971-bef478fee60f",
   "metadata": {},
   "outputs": [],
   "source": [
    "emg_walk = defaultdict(lambda: np.zeros((1000,0)))\n",
    "\n",
    "for c3d_file in pathlib.Path(DATA_FLDR).glob('*.c3d'):\n",
    "    print(f'Reading file {c3d_file} ...')\n",
    "    trial = Trial(c3d_file)\n",
    "    \n",
    "    if trial.eclipse_tag in WALKING_TAGS:\n",
    "        print(f'Collecting trial data for file {c3d_file} (walking) ...')\n",
    "        data, cycles = collect_trial_data(trial, analog_envelope=True, force_collect_all_cycles=True, fp_cycles_only=False)\n",
    "        for ch in data['emg'].keys():\n",
    "            emg_walk[ch] = np.hstack((emg_walk[ch], data['emg'][ch].T))"
   ]
  },
  {
   "cell_type": "markdown",
   "id": "9894230f-75bc-4ba8-9640-cf20127f2072",
   "metadata": {},
   "source": [
    "## Read all the reference files"
   ]
  },
  {
   "cell_type": "code",
   "execution_count": null,
   "id": "e06db69d-afb1-4c3c-83a8-28e92e0f3dd5",
   "metadata": {},
   "outputs": [],
   "source": [
    "emg_ref = defaultdict(lambda: np.zeros((0,)))\n",
    "\n",
    "for c3d_file in pathlib.Path(DATA_FLDR).glob('*.c3d'):\n",
    "    trial = Trial(c3d_file)\n",
    "    \n",
    "    if MVC_TAG in eclipse.get_eclipse_keys(trial.enfpath)['NOTES'] or MVC_TAG in eclipse.get_eclipse_keys(trial.enfpath)['DESCRIPTION']:\n",
    "        print(f'Reading file {c3d_file} (MVC) ...')\n",
    "        for ch in emg_walk.keys():\n",
    "            emg_ref[ch] = np.concatenate((emg_ref[ch], trial.get_emg_data(ch, envelope=True)[1]))"
   ]
  },
  {
   "cell_type": "markdown",
   "id": "22701a1a-eb1f-44fa-a807-4995a26a355a",
   "metadata": {},
   "source": [
    "## Normalize"
   ]
  },
  {
   "cell_type": "code",
   "execution_count": null,
   "id": "786ef06a-531b-45ee-9427-3a937a77d6c5",
   "metadata": {},
   "outputs": [],
   "source": [
    "for ch in emg_walk:\n",
    "    emg_walk[ch] /= emg_ref[ch].max()"
   ]
  },
  {
   "cell_type": "markdown",
   "id": "4e77cf1b-5e10-4258-9b95-14800a5eb620",
   "metadata": {},
   "source": [
    "## Plot"
   ]
  },
  {
   "cell_type": "code",
   "execution_count": null,
   "id": "82f31e7e-2a1a-4db5-b415-2896416a9c38",
   "metadata": {},
   "outputs": [],
   "source": [
    "ch_base = set(ch[1:] for ch in emg_walk.keys())\n",
    "\n",
    "for ch in ch_base:\n",
    "    plt.figure()\n",
    "    \n",
    "    plt.subplot(1, 2, 1)\n",
    "    plt.plot(emg_walk[f'R{ch}'], color='green')\n",
    "    plt.plot(emg_walk[f'L{ch}'], color='red')\n",
    "    plt.title(f'{ch}')\n",
    "    \n",
    "    plt.subplot(1, 2, 2)\n",
    "    plt.plot(emg_walk[f'R{ch}'].mean(axis=1), color='green')\n",
    "    plt.plot(emg_walk[f'R{ch}'].mean(axis=1) + emg_walk[f'R{ch}'].std(axis=1), color='green', linestyle='dotted')\n",
    "    plt.plot(emg_walk[f'R{ch}'].mean(axis=1) - emg_walk[f'R{ch}'].std(axis=1), color='green', linestyle='dotted')\n",
    "\n",
    "    plt.plot(emg_walk[f'L{ch}'].mean(axis=1), color='red')\n",
    "    plt.plot(emg_walk[f'L{ch}'].mean(axis=1) + emg_walk[f'L{ch}'].std(axis=1), color='red', linestyle='dotted')\n",
    "    plt.plot(emg_walk[f'L{ch}'].mean(axis=1) - emg_walk[f'L{ch}'].std(axis=1), color='red', linestyle='dotted')\n",
    "\n",
    "    plt.title(f'{ch} (avg + std)')\n",
    "    plt.gcf().set_size_inches(20, 6)\n"
   ]
  },
  {
   "cell_type": "markdown",
   "id": "48e7ac6d-43f4-4bd3-a3d8-a2ca3cb9a985",
   "metadata": {},
   "source": [
    "## Compute the indices"
   ]
  },
  {
   "cell_type": "code",
   "execution_count": null,
   "id": "3180fa76-3208-4494-8a4a-6d15e008ec1e",
   "metadata": {},
   "outputs": [],
   "source": [
    "res = {'index': ('right max', 'std of (right max)', 'left max', 'std of (left max)', 'right average', 'left average')}\n",
    "                 \n",
    "for ch in ch_base:\n",
    "    res[ch] = (np.mean(emg_walk[f'R{ch}'].max(axis=0)), np.std(emg_walk[f'R{ch}'].max(axis=0)), np.mean(emg_walk[f'L{ch}'].max(axis=0)), np.std(emg_walk[f'L{ch}'].max(axis=0)), emg_walk[f'R{ch}'].mean(), emg_walk[f'L{ch}'].mean())\n",
    "    \n",
    "df = pd.DataFrame(res)\n",
    "df"
   ]
  },
  {
   "cell_type": "code",
   "execution_count": null,
   "id": "b9460387-6060-4618-bb6e-0bb063a96235",
   "metadata": {},
   "outputs": [],
   "source": []
  }
 ],
 "metadata": {
  "kernelspec": {
   "display_name": "Python 3 (ipykernel)",
   "language": "python",
   "name": "python3"
  },
  "language_info": {
   "codemirror_mode": {
    "name": "ipython",
    "version": 3
   },
   "file_extension": ".py",
   "mimetype": "text/x-python",
   "name": "python",
   "nbconvert_exporter": "python",
   "pygments_lexer": "ipython3",
   "version": "3.11.3"
  }
 },
 "nbformat": 4,
 "nbformat_minor": 5
}
